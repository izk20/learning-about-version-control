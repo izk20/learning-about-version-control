{
 "cells": [
  {
   "cell_type": "markdown",
   "id": "ecca5a15-addd-4baa-83cb-d85b50cc3623",
   "metadata": {},
   "source": [
    "# Learning About Version Control"
   ]
  },
  {
   "cell_type": "code",
   "execution_count": 3,
   "id": "04663c75-fe88-478e-b611-a15ca5371b7d",
   "metadata": {},
   "outputs": [
    {
     "data": {
      "text/html": [
       "2"
      ],
      "text/latex": [
       "2"
      ],
      "text/markdown": [
       "2"
      ],
      "text/plain": [
       "[1] 2"
      ]
     },
     "metadata": {},
     "output_type": "display_data"
    }
   ],
   "source": [
    "1 + 1"
   ]
  }
 ],
 "metadata": {
  "kernelspec": {
   "display_name": "R",
   "language": "R",
   "name": "ir"
  },
  "language_info": {
   "codemirror_mode": "r",
   "file_extension": ".r",
   "mimetype": "text/x-r-source",
   "name": "R",
   "pygments_lexer": "r",
   "version": "4.1.1"
  }
 },
 "nbformat": 4,
 "nbformat_minor": 5
}
